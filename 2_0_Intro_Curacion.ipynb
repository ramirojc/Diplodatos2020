{
  "nbformat": 4,
  "nbformat_minor": 0,
  "metadata": {
    "colab": {
      "name": "Untitled8.ipynb",
      "provenance": [],
      "toc_visible": true,
      "mount_file_id": "1wY3wwupRNLFvJlW8Yh2zjtNcUTehugOj",
      "authorship_tag": "ABX9TyOdrGSpbOqe1BTG96ppRWnl",
      "include_colab_link": true
    },
    "kernelspec": {
      "name": "python3",
      "display_name": "Python 3"
    }
  },
  "cells": [
    {
      "cell_type": "markdown",
      "metadata": {
        "id": "view-in-github",
        "colab_type": "text"
      },
      "source": [
        "<a href=\"https://colab.research.google.com/github/ramirojc/Diplodatos2020/blob/master/2_0_Intro_Curacion.ipynb\" target=\"_parent\"><img src=\"https://colab.research.google.com/assets/colab-badge.svg\" alt=\"Open In Colab\"/></a>"
      ]
    },
    {
      "cell_type": "code",
      "metadata": {
        "id": "viC0nDHxJBTV",
        "colab_type": "code",
        "colab": {
          "base_uri": "https://localhost:8080/",
          "height": 425
        },
        "outputId": "83ebeca2-65c5-424a-9836-729d1c32d1a9"
      },
      "source": [
        "!pip install geopandas\n",
        "!apt install libspatialindex-dev\n",
        "!pip install rtree"
      ],
      "execution_count": 1,
      "outputs": [
        {
          "output_type": "stream",
          "text": [
            "Requirement already satisfied: geopandas in /usr/local/lib/python3.6/dist-packages (0.8.0)\n",
            "Requirement already satisfied: shapely in /usr/local/lib/python3.6/dist-packages (from geopandas) (1.7.0)\n",
            "Requirement already satisfied: pandas>=0.23.0 in /usr/local/lib/python3.6/dist-packages (from geopandas) (1.0.5)\n",
            "Requirement already satisfied: pyproj>=2.2.0 in /usr/local/lib/python3.6/dist-packages (from geopandas) (2.6.1.post1)\n",
            "Requirement already satisfied: fiona in /usr/local/lib/python3.6/dist-packages (from geopandas) (1.8.13.post1)\n",
            "Requirement already satisfied: pytz>=2017.2 in /usr/local/lib/python3.6/dist-packages (from pandas>=0.23.0->geopandas) (2018.9)\n",
            "Requirement already satisfied: numpy>=1.13.3 in /usr/local/lib/python3.6/dist-packages (from pandas>=0.23.0->geopandas) (1.18.5)\n",
            "Requirement already satisfied: python-dateutil>=2.6.1 in /usr/local/lib/python3.6/dist-packages (from pandas>=0.23.0->geopandas) (2.8.1)\n",
            "Requirement already satisfied: six>=1.7 in /usr/local/lib/python3.6/dist-packages (from fiona->geopandas) (1.12.0)\n",
            "Requirement already satisfied: click-plugins>=1.0 in /usr/local/lib/python3.6/dist-packages (from fiona->geopandas) (1.1.1)\n",
            "Requirement already satisfied: click<8,>=4.0 in /usr/local/lib/python3.6/dist-packages (from fiona->geopandas) (7.1.2)\n",
            "Requirement already satisfied: munch in /usr/local/lib/python3.6/dist-packages (from fiona->geopandas) (2.5.0)\n",
            "Requirement already satisfied: cligj>=0.5 in /usr/local/lib/python3.6/dist-packages (from fiona->geopandas) (0.5.0)\n",
            "Requirement already satisfied: attrs>=17 in /usr/local/lib/python3.6/dist-packages (from fiona->geopandas) (19.3.0)\n",
            "Reading package lists... Done\n",
            "Building dependency tree       \n",
            "Reading state information... Done\n",
            "libspatialindex-dev is already the newest version (1.8.5-5).\n",
            "The following package was automatically installed and is no longer required:\n",
            "  libnvidia-common-440\n",
            "Use 'apt autoremove' to remove it.\n",
            "0 upgraded, 0 newly installed, 0 to remove and 33 not upgraded.\n",
            "Requirement already satisfied: rtree in /usr/local/lib/python3.6/dist-packages (0.9.4)\n",
            "Requirement already satisfied: setuptools in /usr/local/lib/python3.6/dist-packages (from rtree) (47.3.1)\n"
          ],
          "name": "stdout"
        }
      ]
    },
    {
      "cell_type": "code",
      "metadata": {
        "id": "y-OKzTVXJEJI",
        "colab_type": "code",
        "colab": {
          "base_uri": "https://localhost:8080/",
          "height": 71
        },
        "outputId": "8468a551-b114-494e-f61e-dca9cae2a00e"
      },
      "source": [
        "import geopandas as gpd\n",
        "from shapely.geometry import Point, LineString, Polygon, MultiPoint, MultiLineString"
      ],
      "execution_count": 2,
      "outputs": [
        {
          "output_type": "stream",
          "text": [
            "/usr/local/lib/python3.6/dist-packages/geopandas/_compat.py:88: UserWarning: The Shapely GEOS version (3.8.0-CAPI-1.13.1 ) is incompatible with the GEOS version PyGEOS was compiled with (3.8.1-CAPI-1.13.3). Conversions between both will be slow.\n",
            "  shapely_geos_version, geos_capi_version_string\n"
          ],
          "name": "stderr"
        }
      ]
    },
    {
      "cell_type": "code",
      "metadata": {
        "id": "CjB4GpmTJHEp",
        "colab_type": "code",
        "colab": {}
      },
      "source": [
        "data_path = './drive/My Drive/BDGD/ENF_6612_2018-12-31_M10_20190529-1610.gdb'"
      ],
      "execution_count": 3,
      "outputs": []
    },
    {
      "cell_type": "code",
      "metadata": {
        "id": "EwnS39YQKOnb",
        "colab_type": "code",
        "colab": {
          "base_uri": "https://localhost:8080/",
          "height": 68
        },
        "outputId": "dd788d7f-229c-4889-d09d-0ad58cff9325"
      },
      "source": [
        "# Carguemos la tabla de consumidores de baja tension denominada UCBT\n",
        "conj = gpd.read_file(data_path, driver='FileGDB', layer='CONJ')\n",
        "conj.shape, conj.columns"
      ],
      "execution_count": 4,
      "outputs": [
        {
          "output_type": "execute_result",
          "data": {
            "text/plain": [
              "((5, 9), Index(['COD_ID', 'DIST', 'NOM', 'SIST_INTE', 'SIST_SUBT', 'DESCR',\n",
              "        'Shape_Length', 'Shape_Area', 'geometry'],\n",
              "       dtype='object'))"
            ]
          },
          "metadata": {
            "tags": []
          },
          "execution_count": 4
        }
      ]
    },
    {
      "cell_type": "code",
      "metadata": {
        "id": "Syk0BlZLKtJX",
        "colab_type": "code",
        "colab": {
          "base_uri": "https://localhost:8080/",
          "height": 204
        },
        "outputId": "a52e7b6f-cf2f-494e-8acf-28804195c8c4"
      },
      "source": [
        "untrs = gpd.read_file(data_path, driver='FileGDB', layer='UNTRS')\n",
        "untrs.shape, untrs.columns"
      ],
      "execution_count": 5,
      "outputs": [
        {
          "output_type": "execute_result",
          "data": {
            "text/plain": [
              "((6, 53),\n",
              " Index(['COD_ID', 'SUB', 'BARR_1', 'BARR_2', 'BARR_3', 'PAC_1', 'PAC_2',\n",
              "        'PAC_3', 'DIST', 'FAS_CON_P', 'FAS_CON_S', 'FAS_CON_T', 'SIT_ATIV',\n",
              "        'TIP_UNID', 'POS', 'POT_NOM', 'POT_F01', 'POT_F02', 'PER_FER',\n",
              "        'PER_TOT', 'BANC', 'DAT_CON', 'CONJ', 'MUN', 'TIP_TRAFO', 'ALOC_PERD',\n",
              "        'ENES_01', 'ENES_02', 'ENES_03', 'ENES_04', 'ENES_05', 'ENES_06',\n",
              "        'ENES_07', 'ENES_08', 'ENES_09', 'ENES_10', 'ENES_11', 'ENES_12',\n",
              "        'ENET_01', 'ENET_02', 'ENET_03', 'ENET_04', 'ENET_05', 'ENET_06',\n",
              "        'ENET_07', 'ENET_08', 'ENET_09', 'ENET_10', 'ENET_11', 'ENET_12',\n",
              "        'DESCR', 'ARE_LOC', 'geometry'],\n",
              "       dtype='object'))"
            ]
          },
          "metadata": {
            "tags": []
          },
          "execution_count": 5
        }
      ]
    },
    {
      "cell_type": "code",
      "metadata": {
        "id": "fNkmpGqCLQbz",
        "colab_type": "code",
        "colab": {
          "base_uri": "https://localhost:8080/",
          "height": 136
        },
        "outputId": "728a6a75-2e0b-4934-ea05-f89e5d18af2e"
      },
      "source": [
        "untrd = gpd.read_file(data_path, driver='FileGDB', layer='UNTRD')\n",
        "untrd.shape, untrd.columns"
      ],
      "execution_count": 6,
      "outputs": [
        {
          "output_type": "execute_result",
          "data": {
            "text/plain": [
              "((3879, 33),\n",
              " Index(['COD_ID', 'DIST', 'PAC_1', 'PAC_2', 'PAC_3', 'FAS_CON_P', 'FAS_CON_S',\n",
              "        'FAS_CON_T', 'SIT_ATIV', 'TIP_UNID', 'POS', 'ATRB_PER', 'TEN_LIN_SE',\n",
              "        'CAP_ELO', 'CAP_CHA', 'TAP', 'CONF', 'POSTO', 'POT_NOM', 'PER_FER',\n",
              "        'PER_TOT', 'DAT_CON', 'CTMT', 'UNI_TR_S', 'SUB', 'CONJ', 'MUN', 'BANC',\n",
              "        'TIP_TRAFO', 'MRT', 'DESCR', 'ARE_LOC', 'geometry'],\n",
              "       dtype='object'))"
            ]
          },
          "metadata": {
            "tags": []
          },
          "execution_count": 6
        }
      ]
    },
    {
      "cell_type": "code",
      "metadata": {
        "id": "l3hfs0SjKxFi",
        "colab_type": "code",
        "colab": {
          "base_uri": "https://localhost:8080/",
          "height": 187
        },
        "outputId": "a0f0cca2-5081-422d-e4a3-c3b4b9fff25e"
      },
      "source": [
        "ssmt = gpd.read_file(data_path, driver='FileGDB', layer='SSDMT')\n",
        "ssmt.columns, ssmt.columns"
      ],
      "execution_count": 7,
      "outputs": [
        {
          "output_type": "execute_result",
          "data": {
            "text/plain": [
              "(Index(['COD_ID', 'PN_CON_1', 'PN_CON_2', 'CTMT', 'UNI_TR_S', 'SUB', 'CONJ',\n",
              "        'DIST', 'PAC_1', 'PAC_2', 'FAS_CON', 'TIP_CND', 'POS', 'ODI_FAS',\n",
              "        'TI_FAS', 'ODI_NEU', 'TI_NEU', 'COMP', 'DESCR', 'SITCONTFAS',\n",
              "        'SITCONTNEU', 'ARE_LOC', 'Shape_Length', 'geometry'],\n",
              "       dtype='object'),\n",
              " Index(['COD_ID', 'PN_CON_1', 'PN_CON_2', 'CTMT', 'UNI_TR_S', 'SUB', 'CONJ',\n",
              "        'DIST', 'PAC_1', 'PAC_2', 'FAS_CON', 'TIP_CND', 'POS', 'ODI_FAS',\n",
              "        'TI_FAS', 'ODI_NEU', 'TI_NEU', 'COMP', 'DESCR', 'SITCONTFAS',\n",
              "        'SITCONTNEU', 'ARE_LOC', 'Shape_Length', 'geometry'],\n",
              "       dtype='object'))"
            ]
          },
          "metadata": {
            "tags": []
          },
          "execution_count": 7
        }
      ]
    },
    {
      "cell_type": "markdown",
      "metadata": {
        "id": "CC2-96K5jMgl",
        "colab_type": "text"
      },
      "source": [
        "## Manejo de objetos graficos con Shapely\n",
        "\n",
        "https://shapely.readthedocs.io/en/latest/manual.html"
      ]
    },
    {
      "cell_type": "markdown",
      "metadata": {
        "id": "zhdMC-o8_3aI",
        "colab_type": "text"
      },
      "source": [
        "### Objetos geometricos basicos"
      ]
    },
    {
      "cell_type": "code",
      "metadata": {
        "id": "eQiaIg4_jkMZ",
        "colab_type": "code",
        "colab": {
          "base_uri": "https://localhost:8080/",
          "height": 0
        },
        "outputId": "9f5fac2d-5b67-4e6e-fe04-caf77c58f8f8"
      },
      "source": [
        "untrs.geometry.head()"
      ],
      "execution_count": 8,
      "outputs": [
        {
          "output_type": "execute_result",
          "data": {
            "text/plain": [
              "0    POINT (-42.38024 -22.28705)\n",
              "1    POINT (-42.52043 -22.23040)\n",
              "2    POINT (-42.68582 -22.26417)\n",
              "3    POINT (-42.51374 -22.28512)\n",
              "4    POINT (-42.53341 -22.27488)\n",
              "Name: geometry, dtype: geometry"
            ]
          },
          "metadata": {
            "tags": []
          },
          "execution_count": 8
        }
      ]
    },
    {
      "cell_type": "code",
      "metadata": {
        "id": "0Q7d3fjBjkUM",
        "colab_type": "code",
        "colab": {}
      },
      "source": [
        "p = Point(1,0)\n",
        "o = Point(0,0)"
      ],
      "execution_count": 9,
      "outputs": []
    },
    {
      "cell_type": "code",
      "metadata": {
        "id": "-4zuhmBzjkXT",
        "colab_type": "code",
        "colab": {
          "base_uri": "https://localhost:8080/",
          "height": 0
        },
        "outputId": "dc80e4ae-e1f3-4601-d069-d112503b60cc"
      },
      "source": [
        "p.length, p.area, p.bounds, p.x, p.y"
      ],
      "execution_count": 10,
      "outputs": [
        {
          "output_type": "execute_result",
          "data": {
            "text/plain": [
              "(0.0, 0.0, (1.0, 0.0, 1.0, 0.0), 1.0, 0.0)"
            ]
          },
          "metadata": {
            "tags": []
          },
          "execution_count": 10
        }
      ]
    },
    {
      "cell_type": "code",
      "metadata": {
        "id": "yAjmIU8Hjkap",
        "colab_type": "code",
        "colab": {
          "base_uri": "https://localhost:8080/",
          "height": 0
        },
        "outputId": "8979d2ea-2b51-4158-e28d-003611529fd2"
      },
      "source": [
        "l = LineString([(1,1),(-1,-1)])\n",
        "l"
      ],
      "execution_count": 11,
      "outputs": [
        {
          "output_type": "execute_result",
          "data": {
            "text/plain": [
              "<shapely.geometry.linestring.LineString at 0x7f41c43920f0>"
            ],
            "image/svg+xml": "<svg xmlns=\"http://www.w3.org/2000/svg\" xmlns:xlink=\"http://www.w3.org/1999/xlink\" width=\"100.0\" height=\"100.0\" viewBox=\"-1.08 -1.08 2.16 2.16\" preserveAspectRatio=\"xMinYMin meet\"><g transform=\"matrix(1,0,0,-1,0,0.0)\"><polyline fill=\"none\" stroke=\"#66cc99\" stroke-width=\"0.0432\" points=\"1.0,1.0 -1.0,-1.0\" opacity=\"0.8\" /></g></svg>"
          },
          "metadata": {
            "tags": []
          },
          "execution_count": 11
        }
      ]
    },
    {
      "cell_type": "code",
      "metadata": {
        "id": "wXmev9mTrlCb",
        "colab_type": "code",
        "colab": {
          "base_uri": "https://localhost:8080/",
          "height": 0
        },
        "outputId": "c2647c48-dd79-46af-84fd-07a33e53bd4d"
      },
      "source": [
        "l.area, l.length, l.bounds, l.xy, l.centroid.xy"
      ],
      "execution_count": 12,
      "outputs": [
        {
          "output_type": "execute_result",
          "data": {
            "text/plain": [
              "(0.0,\n",
              " 2.8284271247461903,\n",
              " (-1.0, -1.0, 1.0, 1.0),\n",
              " (array('d', [1.0, -1.0]), array('d', [1.0, -1.0])),\n",
              " (array('d', [0.0]), array('d', [0.0])))"
            ]
          },
          "metadata": {
            "tags": []
          },
          "execution_count": 12
        }
      ]
    },
    {
      "cell_type": "code",
      "metadata": {
        "id": "p9BTeUhhrmhY",
        "colab_type": "code",
        "colab": {
          "base_uri": "https://localhost:8080/",
          "height": 0
        },
        "outputId": "99b093d6-2bad-41dd-a033-53990a2fc7d5"
      },
      "source": [
        "c = Polygon([(0,0),(0,1),(1,1),(1,0)])\n",
        "c"
      ],
      "execution_count": 13,
      "outputs": [
        {
          "output_type": "execute_result",
          "data": {
            "text/plain": [
              "<shapely.geometry.polygon.Polygon at 0x7f41c4392ef0>"
            ],
            "image/svg+xml": "<svg xmlns=\"http://www.w3.org/2000/svg\" xmlns:xlink=\"http://www.w3.org/1999/xlink\" width=\"100.0\" height=\"100.0\" viewBox=\"-0.04 -0.04 1.08 1.08\" preserveAspectRatio=\"xMinYMin meet\"><g transform=\"matrix(1,0,0,-1,0,1.0)\"><path fill-rule=\"evenodd\" fill=\"#66cc99\" stroke=\"#555555\" stroke-width=\"0.0216\" opacity=\"0.6\" d=\"M 0.0,0.0 L 0.0,1.0 L 1.0,1.0 L 1.0,0.0 L 0.0,0.0 z\" /></g></svg>"
          },
          "metadata": {
            "tags": []
          },
          "execution_count": 13
        }
      ]
    },
    {
      "cell_type": "code",
      "metadata": {
        "id": "PpH_VNiAuLFW",
        "colab_type": "code",
        "colab": {
          "base_uri": "https://localhost:8080/",
          "height": 0
        },
        "outputId": "14857757-5cf2-4111-9075-569898c6a957"
      },
      "source": [
        "c.area, c.length, c.bounds, c.centroid.xy"
      ],
      "execution_count": 14,
      "outputs": [
        {
          "output_type": "execute_result",
          "data": {
            "text/plain": [
              "(1.0, 4.0, (0.0, 0.0, 1.0, 1.0), (array('d', [0.5]), array('d', [0.5])))"
            ]
          },
          "metadata": {
            "tags": []
          },
          "execution_count": 14
        }
      ]
    },
    {
      "cell_type": "markdown",
      "metadata": {
        "id": "tQ_RhEtnwHlW",
        "colab_type": "text"
      },
      "source": [
        "### Operaciones Basicas"
      ]
    },
    {
      "cell_type": "code",
      "metadata": {
        "id": "IMmSrf2ZwOWE",
        "colab_type": "code",
        "colab": {
          "base_uri": "https://localhost:8080/",
          "height": 0
        },
        "outputId": "0f4c3cb0-dbe7-43bb-dc1a-cd41606e63eb"
      },
      "source": [
        "p.distance(l) # Distancia del punto a linea"
      ],
      "execution_count": 15,
      "outputs": [
        {
          "output_type": "execute_result",
          "data": {
            "text/plain": [
              "0.7071067811865476"
            ]
          },
          "metadata": {
            "tags": []
          },
          "execution_count": 15
        }
      ]
    },
    {
      "cell_type": "code",
      "metadata": {
        "id": "tC7WbCx-wOZB",
        "colab_type": "code",
        "colab": {
          "base_uri": "https://localhost:8080/",
          "height": 0
        },
        "outputId": "296cca7a-444c-468c-8560-dbe520f1744d"
      },
      "source": [
        "l.contains(o) # Contiene"
      ],
      "execution_count": 16,
      "outputs": [
        {
          "output_type": "execute_result",
          "data": {
            "text/plain": [
              "True"
            ]
          },
          "metadata": {
            "tags": []
          },
          "execution_count": 16
        }
      ]
    },
    {
      "cell_type": "code",
      "metadata": {
        "id": "NZ3c9SYkwOca",
        "colab_type": "code",
        "colab": {
          "base_uri": "https://localhost:8080/",
          "height": 0
        },
        "outputId": "1537cdcb-8d1c-4e1b-e62b-8bbecc407446"
      },
      "source": [
        "l.intersects(c) # Interseccion"
      ],
      "execution_count": 17,
      "outputs": [
        {
          "output_type": "execute_result",
          "data": {
            "text/plain": [
              "True"
            ]
          },
          "metadata": {
            "tags": []
          },
          "execution_count": 17
        }
      ]
    },
    {
      "cell_type": "markdown",
      "metadata": {
        "id": "MDjjrUHIyGze",
        "colab_type": "text"
      },
      "source": [
        "### Joints Espaciales"
      ]
    },
    {
      "cell_type": "code",
      "metadata": {
        "id": "qXrJyAhAxBnt",
        "colab_type": "code",
        "colab": {
          "base_uri": "https://localhost:8080/",
          "height": 432
        },
        "outputId": "d4073559-de48-4e2c-af26-f099e32008ef"
      },
      "source": [
        "st = gpd.sjoin(untrd[['COD_ID','CONJ','geometry']], conj[['NOM','geometry']].iloc[:3], how='inner', op='within', lsuffix='untrs',rsuffix='conj')\n",
        "st.plot(figsize=(10,10))"
      ],
      "execution_count": 66,
      "outputs": [
        {
          "output_type": "execute_result",
          "data": {
            "text/plain": [
              "<matplotlib.axes._subplots.AxesSubplot at 0x7f41c41346d8>"
            ]
          },
          "metadata": {
            "tags": []
          },
          "execution_count": 66
        },
        {
          "output_type": "display_data",
          "data": {
            "image/png": "[encoded data removed]",
            "text/plain": [
              "<Figure size 720x720 with 1 Axes>"
            ]
          },
          "metadata": {
            "tags": [],
            "needs_background": "light"
          }
        }
      ]
    },
    {
      "cell_type": "code",
      "metadata": {
        "id": "2WYaIpsu-rWd",
        "colab_type": "code",
        "colab": {
          "base_uri": "https://localhost:8080/",
          "height": 204
        },
        "outputId": "eafa01ae-7342-46fd-9a80-86834e64f29c"
      },
      "source": [
        "st.head()"
      ],
      "execution_count": 68,
      "outputs": [
        {
          "output_type": "execute_result",
          "data": {
            "text/html": [
              "<div>\n",
              "<style scoped>\n",
              "    .dataframe tbody tr th:only-of-type {\n",
              "        vertical-align: middle;\n",
              "    }\n",
              "\n",
              "    .dataframe tbody tr th {\n",
              "        vertical-align: top;\n",
              "    }\n",
              "\n",
              "    .dataframe thead th {\n",
              "        text-align: right;\n",
              "    }\n",
              "</style>\n",
              "<table border=\"1\" class=\"dataframe\">\n",
              "  <thead>\n",
              "    <tr style=\"text-align: right;\">\n",
              "      <th></th>\n",
              "      <th>COD_ID</th>\n",
              "      <th>CONJ</th>\n",
              "      <th>geometry</th>\n",
              "      <th>index_conj</th>\n",
              "      <th>NOM</th>\n",
              "    </tr>\n",
              "  </thead>\n",
              "  <tbody>\n",
              "    <tr>\n",
              "      <th>29</th>\n",
              "      <td>26878975</td>\n",
              "      <td>15615</td>\n",
              "      <td>POINT (1376182.173 7503439.714)</td>\n",
              "      <td>2</td>\n",
              "      <td>JULIUS ARP JR.</td>\n",
              "    </tr>\n",
              "    <tr>\n",
              "      <th>30</th>\n",
              "      <td>26878976</td>\n",
              "      <td>15615</td>\n",
              "      <td>POINT (1378749.846 7503400.027)</td>\n",
              "      <td>2</td>\n",
              "      <td>JULIUS ARP JR.</td>\n",
              "    </tr>\n",
              "    <tr>\n",
              "      <th>31</th>\n",
              "      <td>26878977</td>\n",
              "      <td>15615</td>\n",
              "      <td>POINT (1375495.911 7502741.477)</td>\n",
              "      <td>2</td>\n",
              "      <td>JULIUS ARP JR.</td>\n",
              "    </tr>\n",
              "    <tr>\n",
              "      <th>32</th>\n",
              "      <td>26878978</td>\n",
              "      <td>15615</td>\n",
              "      <td>POINT (1377825.671 7504444.754)</td>\n",
              "      <td>2</td>\n",
              "      <td>JULIUS ARP JR.</td>\n",
              "    </tr>\n",
              "    <tr>\n",
              "      <th>33</th>\n",
              "      <td>26878979</td>\n",
              "      <td>15615</td>\n",
              "      <td>POINT (1378413.454 7504500.889)</td>\n",
              "      <td>2</td>\n",
              "      <td>JULIUS ARP JR.</td>\n",
              "    </tr>\n",
              "  </tbody>\n",
              "</table>\n",
              "</div>"
            ],
            "text/plain": [
              "      COD_ID   CONJ  ... index_conj             NOM\n",
              "29  26878975  15615  ...          2  JULIUS ARP JR.\n",
              "30  26878976  15615  ...          2  JULIUS ARP JR.\n",
              "31  26878977  15615  ...          2  JULIUS ARP JR.\n",
              "32  26878978  15615  ...          2  JULIUS ARP JR.\n",
              "33  26878979  15615  ...          2  JULIUS ARP JR.\n",
              "\n",
              "[5 rows x 5 columns]"
            ]
          },
          "metadata": {
            "tags": []
          },
          "execution_count": 68
        }
      ]
    },
    {
      "cell_type": "markdown",
      "metadata": {
        "id": "ZUR7T78ZAEry",
        "colab_type": "text"
      },
      "source": [
        "## Sistemas de Coordenadas"
      ]
    },
    {
      "cell_type": "code",
      "metadata": {
        "id": "6BX5lqLMLM_C",
        "colab_type": "code",
        "colab": {}
      },
      "source": [
        "conj = conj.to_crs(epsg=31982)\n",
        "untrs = untrs.to_crs(epsg=31982)\n",
        "untrd = untrd.to_crs(epsg=31982)\n",
        "ssmt = ssmt.to_crs(epsg=31982)"
      ],
      "execution_count": 20,
      "outputs": []
    },
    {
      "cell_type": "code",
      "metadata": {
        "id": "WWDAUrviLkpM",
        "colab_type": "code",
        "colab": {
          "base_uri": "https://localhost:8080/",
          "height": 221
        },
        "outputId": "ff0370a9-4ebc-45e5-8d97-d99d534bec73"
      },
      "source": [
        "untrd.distance(untrs.geometry[0])"
      ],
      "execution_count": 21,
      "outputs": [
        {
          "output_type": "execute_result",
          "data": {
            "text/plain": [
              "0       24711.935210\n",
              "1       24826.773729\n",
              "2       25081.103330\n",
              "3       25519.018894\n",
              "4       25622.791019\n",
              "            ...     \n",
              "3874    11209.391238\n",
              "3875     7538.717565\n",
              "3876     8552.727475\n",
              "3877    12512.703468\n",
              "3878    10741.471603\n",
              "Length: 3879, dtype: float64"
            ]
          },
          "metadata": {
            "tags": []
          },
          "execution_count": 21
        }
      ]
    },
    {
      "cell_type": "code",
      "metadata": {
        "id": "E57nwQMlMcxS",
        "colab_type": "code",
        "colab": {}
      },
      "source": [
        "\n"
      ],
      "execution_count": 21,
      "outputs": []
    },
    {
      "cell_type": "code",
      "metadata": {
        "id": "O6YTUPd7z2R1",
        "colab_type": "code",
        "colab": {
          "base_uri": "https://localhost:8080/",
          "height": 51
        },
        "outputId": "4d379ec2-ef8f-4e81-d2fc-acef509edbfd"
      },
      "source": [
        "! pip install libspatialindex"
      ],
      "execution_count": 22,
      "outputs": [
        {
          "output_type": "stream",
          "text": [
            "\u001b[31mERROR: Could not find a version that satisfies the requirement libspatialindex (from versions: none)\u001b[0m\n",
            "\u001b[31mERROR: No matching distribution found for libspatialindex\u001b[0m\n"
          ],
          "name": "stdout"
        }
      ]
    },
    {
      "cell_type": "code",
      "metadata": {
        "id": "UaLUYjkJ0Y-h",
        "colab_type": "code",
        "colab": {}
      },
      "source": [
        ""
      ],
      "execution_count": 22,
      "outputs": []
    }
  ]
}